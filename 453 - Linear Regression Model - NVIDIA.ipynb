{
 "cells": [
  {
   "cell_type": "code",
   "execution_count": 30,
   "metadata": {},
   "outputs": [],
   "source": [
    "import quandl\n",
    "import numpy as np \n",
    "from sklearn.linear_model import LinearRegression\n",
    "from sklearn.svm import SVR\n",
    "from sklearn.model_selection import train_test_split\n",
    "import matplotlib.pyplot as plt"
   ]
  },
  {
   "cell_type": "code",
   "execution_count": 31,
   "metadata": {
    "scrolled": false
   },
   "outputs": [
    {
     "data": {
      "text/html": [
       "<div>\n",
       "<style scoped>\n",
       "    .dataframe tbody tr th:only-of-type {\n",
       "        vertical-align: middle;\n",
       "    }\n",
       "\n",
       "    .dataframe tbody tr th {\n",
       "        vertical-align: top;\n",
       "    }\n",
       "\n",
       "    .dataframe thead th {\n",
       "        text-align: right;\n",
       "    }\n",
       "</style>\n",
       "<table border=\"1\" class=\"dataframe\">\n",
       "  <thead>\n",
       "    <tr style=\"text-align: right;\">\n",
       "      <th></th>\n",
       "      <th>Open</th>\n",
       "      <th>High</th>\n",
       "      <th>Low</th>\n",
       "      <th>Close</th>\n",
       "      <th>Volume</th>\n",
       "      <th>Ex-Dividend</th>\n",
       "      <th>Split Ratio</th>\n",
       "      <th>Adj. Open</th>\n",
       "      <th>Adj. High</th>\n",
       "      <th>Adj. Low</th>\n",
       "      <th>Adj. Close</th>\n",
       "      <th>Adj. Volume</th>\n",
       "    </tr>\n",
       "    <tr>\n",
       "      <th>Date</th>\n",
       "      <th></th>\n",
       "      <th></th>\n",
       "      <th></th>\n",
       "      <th></th>\n",
       "      <th></th>\n",
       "      <th></th>\n",
       "      <th></th>\n",
       "      <th></th>\n",
       "      <th></th>\n",
       "      <th></th>\n",
       "      <th></th>\n",
       "      <th></th>\n",
       "    </tr>\n",
       "  </thead>\n",
       "  <tbody>\n",
       "    <tr>\n",
       "      <td>1999-01-22</td>\n",
       "      <td>21.00</td>\n",
       "      <td>23.44</td>\n",
       "      <td>18.63</td>\n",
       "      <td>19.69</td>\n",
       "      <td>5655600.0</td>\n",
       "      <td>0.0</td>\n",
       "      <td>1.0</td>\n",
       "      <td>1.623824</td>\n",
       "      <td>1.812497</td>\n",
       "      <td>1.440564</td>\n",
       "      <td>1.522529</td>\n",
       "      <td>67867200.0</td>\n",
       "    </tr>\n",
       "    <tr>\n",
       "      <td>1999-01-25</td>\n",
       "      <td>21.25</td>\n",
       "      <td>22.00</td>\n",
       "      <td>19.69</td>\n",
       "      <td>21.75</td>\n",
       "      <td>1063500.0</td>\n",
       "      <td>0.0</td>\n",
       "      <td>1.0</td>\n",
       "      <td>1.643156</td>\n",
       "      <td>1.701149</td>\n",
       "      <td>1.522529</td>\n",
       "      <td>1.681818</td>\n",
       "      <td>12762000.0</td>\n",
       "    </tr>\n",
       "    <tr>\n",
       "      <td>1999-01-26</td>\n",
       "      <td>22.00</td>\n",
       "      <td>22.44</td>\n",
       "      <td>19.75</td>\n",
       "      <td>20.06</td>\n",
       "      <td>715000.0</td>\n",
       "      <td>0.0</td>\n",
       "      <td>1.0</td>\n",
       "      <td>1.701149</td>\n",
       "      <td>1.735172</td>\n",
       "      <td>1.527168</td>\n",
       "      <td>1.551139</td>\n",
       "      <td>8580000.0</td>\n",
       "    </tr>\n",
       "    <tr>\n",
       "      <td>1999-01-27</td>\n",
       "      <td>20.13</td>\n",
       "      <td>20.63</td>\n",
       "      <td>19.00</td>\n",
       "      <td>20.00</td>\n",
       "      <td>509100.0</td>\n",
       "      <td>0.0</td>\n",
       "      <td>1.0</td>\n",
       "      <td>1.556552</td>\n",
       "      <td>1.595214</td>\n",
       "      <td>1.469174</td>\n",
       "      <td>1.546499</td>\n",
       "      <td>6109200.0</td>\n",
       "    </tr>\n",
       "    <tr>\n",
       "      <td>1999-01-28</td>\n",
       "      <td>20.00</td>\n",
       "      <td>20.13</td>\n",
       "      <td>19.81</td>\n",
       "      <td>19.94</td>\n",
       "      <td>474000.0</td>\n",
       "      <td>0.0</td>\n",
       "      <td>1.0</td>\n",
       "      <td>1.546499</td>\n",
       "      <td>1.556552</td>\n",
       "      <td>1.531808</td>\n",
       "      <td>1.541860</td>\n",
       "      <td>5688000.0</td>\n",
       "    </tr>\n",
       "  </tbody>\n",
       "</table>\n",
       "</div>"
      ],
      "text/plain": [
       "             Open   High    Low  Close     Volume  Ex-Dividend  Split Ratio  \\\n",
       "Date                                                                          \n",
       "1999-01-22  21.00  23.44  18.63  19.69  5655600.0          0.0          1.0   \n",
       "1999-01-25  21.25  22.00  19.69  21.75  1063500.0          0.0          1.0   \n",
       "1999-01-26  22.00  22.44  19.75  20.06   715000.0          0.0          1.0   \n",
       "1999-01-27  20.13  20.63  19.00  20.00   509100.0          0.0          1.0   \n",
       "1999-01-28  20.00  20.13  19.81  19.94   474000.0          0.0          1.0   \n",
       "\n",
       "            Adj. Open  Adj. High  Adj. Low  Adj. Close  Adj. Volume  \n",
       "Date                                                                 \n",
       "1999-01-22   1.623824   1.812497  1.440564    1.522529   67867200.0  \n",
       "1999-01-25   1.643156   1.701149  1.522529    1.681818   12762000.0  \n",
       "1999-01-26   1.701149   1.735172  1.527168    1.551139    8580000.0  \n",
       "1999-01-27   1.556552   1.595214  1.469174    1.546499    6109200.0  \n",
       "1999-01-28   1.546499   1.556552  1.531808    1.541860    5688000.0  "
      ]
     },
     "execution_count": 31,
     "metadata": {},
     "output_type": "execute_result"
    }
   ],
   "source": [
    "# Import the Data and get an overview of what is looks like.\n",
    "# To analyze a different stock, enter the ticker symbol \n",
    "df = quandl.get(\"WIKI/NVDA\")\n",
    "df.head()"
   ]
  },
  {
   "cell_type": "code",
   "execution_count": 32,
   "metadata": {
    "scrolled": true
   },
   "outputs": [
    {
     "data": {
      "text/html": [
       "<div>\n",
       "<style scoped>\n",
       "    .dataframe tbody tr th:only-of-type {\n",
       "        vertical-align: middle;\n",
       "    }\n",
       "\n",
       "    .dataframe tbody tr th {\n",
       "        vertical-align: top;\n",
       "    }\n",
       "\n",
       "    .dataframe thead th {\n",
       "        text-align: right;\n",
       "    }\n",
       "</style>\n",
       "<table border=\"1\" class=\"dataframe\">\n",
       "  <thead>\n",
       "    <tr style=\"text-align: right;\">\n",
       "      <th></th>\n",
       "      <th>Adj. Close</th>\n",
       "    </tr>\n",
       "    <tr>\n",
       "      <th>Date</th>\n",
       "      <th></th>\n",
       "    </tr>\n",
       "  </thead>\n",
       "  <tbody>\n",
       "    <tr>\n",
       "      <td>1999-01-22</td>\n",
       "      <td>1.522529</td>\n",
       "    </tr>\n",
       "    <tr>\n",
       "      <td>1999-01-25</td>\n",
       "      <td>1.681818</td>\n",
       "    </tr>\n",
       "    <tr>\n",
       "      <td>1999-01-26</td>\n",
       "      <td>1.551139</td>\n",
       "    </tr>\n",
       "    <tr>\n",
       "      <td>1999-01-27</td>\n",
       "      <td>1.546499</td>\n",
       "    </tr>\n",
       "    <tr>\n",
       "      <td>1999-01-28</td>\n",
       "      <td>1.541860</td>\n",
       "    </tr>\n",
       "  </tbody>\n",
       "</table>\n",
       "</div>"
      ],
      "text/plain": [
       "            Adj. Close\n",
       "Date                  \n",
       "1999-01-22    1.522529\n",
       "1999-01-25    1.681818\n",
       "1999-01-26    1.551139\n",
       "1999-01-27    1.546499\n",
       "1999-01-28    1.541860"
      ]
     },
     "execution_count": 32,
     "metadata": {},
     "output_type": "execute_result"
    }
   ],
   "source": [
    "# We will be focusing on the Adj. Closing Price, which is the price the stock's closing price AFTER accounting for\n",
    "# for any corporate actions.\n",
    "# Below, we store it into a dataframe.\n",
    "\n",
    "df = df[['Adj. Close']]\n",
    "df.head()"
   ]
  },
  {
   "cell_type": "code",
   "execution_count": 33,
   "metadata": {},
   "outputs": [
    {
     "name": "stdout",
     "output_type": "stream",
     "text": [
      "[  1.65320793   1.70578891   1.67717867 ... 232.97       244.48\n",
      " 225.52      ]\n"
     ]
    }
   ],
   "source": [
    "# We use the variable below to store how long we want to predict, or forecast, the stock's behavior.\n",
    "forecast_out = 30 # where 30 equals 30 days into the future\n",
    "com = df[-30:] # store the last 30 days of data, we'll use this to compare it to our prediction\n",
    "compare = com.to_numpy()\n",
    "\n",
    "#Create another column (the target or dependent variable) shifted 'n' units up\n",
    "df['Prediction'] = df[['Adj. Close']].shift(-forecast_out)\n",
    "\n",
    "df.head()\n",
    "\n",
    "### Create the independent data set (X)  #######\n",
    "# Convert the dataframe to a numpy array\n",
    "X = np.array(df.drop(['Prediction'],1))\n",
    "\n",
    "#Remove the last 'n' rows, as will be predicting them and don't want to train on those values.\n",
    "X = X[:-forecast_out]\n",
    "\n",
    "\n",
    "### Create the dependent data set (y)  #####\n",
    "# Convert the dataframe to a numpy array (All of the values including the NaN's)\n",
    "y = np.array(df['Prediction'])\n",
    "\n",
    "# Get all of the y values except the last 'n' rows.\n",
    "y = y[:-forecast_out]\n",
    "print(y)"
   ]
  },
  {
   "cell_type": "code",
   "execution_count": 26,
   "metadata": {},
   "outputs": [
    {
     "data": {
      "text/plain": [
       "LinearRegression(copy_X=True, fit_intercept=True, n_jobs=None, normalize=False)"
      ]
     },
     "execution_count": 26,
     "metadata": {},
     "output_type": "execute_result"
    }
   ],
   "source": [
    "# Split the data into 80% training and 20% testing\n",
    "x_train, x_test, y_train, y_test = train_test_split(X, y, test_size=0.2)\n",
    "\n",
    "# Create and train the Linear Regression  Model\n",
    "lr = LinearRegression()\n",
    "\n",
    "# Train the model\n",
    "lr.fit(x_train, y_train)"
   ]
  },
  {
   "cell_type": "code",
   "execution_count": 27,
   "metadata": {},
   "outputs": [
    {
     "name": "stdout",
     "output_type": "stream",
     "text": [
      "The accuracy score for the model is:  0.9775125502598009\n"
     ]
    }
   ],
   "source": [
    "# Testing Model: Score returns the coefficient of determination R^2 of the prediction. \n",
    "# The best possible score is 1.0\n",
    "\n",
    "lr_test = lr.score(x_test, y_test)\n",
    "print(\"The accuracy score for the model is: \", lr_test)"
   ]
  },
  {
   "cell_type": "code",
   "execution_count": 28,
   "metadata": {},
   "outputs": [
    {
     "name": "stdout",
     "output_type": "stream",
     "text": [
      "[253.06229275 262.64923988 268.1898191  265.28864967 271.00373533\n",
      " 262.74739974 263.44542547 267.56813994 268.27707232 267.70992641\n",
      " 263.28182569 252.60421336 257.32679369 256.35610166 263.45633213\n",
      " 263.10731926 262.38748023 266.91374082 271.74538766 269.509524\n",
      " 270.63290916 271.28730828 272.53066661 262.19116049 271.54906793\n",
      " 270.43658942 263.11822591 253.43311892 265.98667539 245.30766316]\n"
     ]
    }
   ],
   "source": [
    "# Set x_forecast equal to the last 30 rows of the original data set from Adj. Close column\n",
    "x_forecast = np.array(df.drop(['Prediction'],1))[-forecast_out:]\n",
    "\n",
    "# Print linear regression model predictions for the next 'n' days\n",
    "lr_prediction = lr.predict(x_forecast)\n",
    "print(lr_prediction)"
   ]
  },
  {
   "cell_type": "code",
   "execution_count": 29,
   "metadata": {},
   "outputs": [
    {
     "data": {
      "text/plain": [
       "<matplotlib.legend.Legend at 0x17e43305cc8>"
      ]
     },
     "execution_count": 29,
     "metadata": {},
     "output_type": "execute_result"
    },
    {
     "data": {
      "image/png": "[encoded data removed]",
      "text/plain": [
       "<Figure size 720x504 with 1 Axes>"
      ]
     },
     "metadata": {
      "needs_background": "light"
     },
     "output_type": "display_data"
    }
   ],
   "source": [
    "# Plotting prediction vs actual price over 30 day period\n",
    "plt.figure(figsize=(10,7))\n",
    "plt.plot(lr_prediction, c=\"red\", label=\"Regression Line\")\n",
    "plt.plot(x_forecast, c=\"blue\", label=\"True Value\")\n",
    "plt.title(\"NVIDIA Regression Prediction vs. Actual Stock Value\")\n",
    "plt.xlabel(\"Days\")\n",
    "plt.ylabel(\"Amount in USD ($)\")\n",
    "plt.legend()"
   ]
  },
  {
   "cell_type": "markdown",
   "metadata": {},
   "source": [
    "After running this model for a number of stocks: TSLA, MSFT, NVDA, NFLX, etc, we tend to see that the model has a tendency to overfit. We observe this as the regression analysis is producing misleading R-squared values. <br>\n",
    "<br>\n",
    "Overfit regression models have too many terms for the number of observations. By running this model multiple times for different stocks, we tend to see the model represent the noise rather than the genuine relationships within the stocks behavior."
   ]
  }
 ],
 "metadata": {
  "kernelspec": {
   "display_name": "Python 3",
   "language": "python",
   "name": "python3"
  },
  "language_info": {
   "codemirror_mode": {
    "name": "ipython",
    "version": 3
   },
   "file_extension": ".py",
   "mimetype": "text/x-python",
   "name": "python",
   "nbconvert_exporter": "python",
   "pygments_lexer": "ipython3",
   "version": "3.7.4"
  }
 },
 "nbformat": 4,
 "nbformat_minor": 4
}
