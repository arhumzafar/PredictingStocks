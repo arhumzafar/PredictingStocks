{
  "nbformat": 4,
  "nbformat_minor": 0,
  "metadata": {
    "kernelspec": {
      "display_name": "Python 3",
      "language": "python",
      "name": "python3"
    },
    "language_info": {
      "codemirror_mode": {
        "name": "ipython",
        "version": 3
      },
      "file_extension": ".py",
      "mimetype": "text/x-python",
      "name": "python",
      "nbconvert_exporter": "python",
      "pygments_lexer": "ipython3",
      "version": "3.7.4"
    },
    "colab": {
      "name": "453 - Support Vector Regression - Microsoft.ipynb",
      "provenance": []
    }
  },
  "cells": [
    {
      "cell_type": "markdown",
      "metadata": {
        "id": "P5XJUbIYa-bM",
        "colab_type": "text"
      },
      "source": [
        "After observing how the Linear Regression Model had a tendecy to learn redundant noise/behavior, *Support Vector Machine (SVM)* analysis become a viable choice to try out. SVMs are a popular machine learning tool for classification and regression, support both linear and nonlinear regression, being referred to as Support Vector Regression (SVR).<br>\n",
        "<br>\n",
        "In this notebook, I will use SVR to make a prediction on the following stock price for a certain stock. I will use the three models for SVR: linear, polynomial, and radial basis function (RBF), which is the default kernel for SVR."
      ]
    },
    {
      "cell_type": "code",
      "metadata": {
        "id": "EtHJdTina-bN",
        "colab_type": "code",
        "colab": {}
      },
      "source": [
        "import numpy as np\n",
        "from sklearn.svm import SVR \n",
        "import matplotlib.pyplot as plt\n",
        "%matplotlib inline\n",
        "import pandas as pd \n",
        "import quandl"
      ],
      "execution_count": 0,
      "outputs": []
    },
    {
      "cell_type": "code",
      "metadata": {
        "id": "uPRv37qea-bR",
        "colab_type": "code",
        "outputId": "dab947b3-7e41-4706-b6eb-8cdc39745cda",
        "colab": {
          "base_uri": "https://localhost:8080/",
          "height": 204
        }
      },
      "source": [
        "from stockai import Stock\n",
        "\n",
        "td = Stock('MSFT')\n",
        "prices_list = td.get_historical_prices('2020-01-01', '2020-01-30')\n",
        "df = pd.DataFrame.from_dict(prices_list)\n",
        "df.head()"
      ],
      "execution_count": 13,
      "outputs": [
        {
          "output_type": "execute_result",
          "data": {
            "text/html": [
              "<div>\n",
              "<style scoped>\n",
              "    .dataframe tbody tr th:only-of-type {\n",
              "        vertical-align: middle;\n",
              "    }\n",
              "\n",
              "    .dataframe tbody tr th {\n",
              "        vertical-align: top;\n",
              "    }\n",
              "\n",
              "    .dataframe thead th {\n",
              "        text-align: right;\n",
              "    }\n",
              "</style>\n",
              "<table border=\"1\" class=\"dataframe\">\n",
              "  <thead>\n",
              "    <tr style=\"text-align: right;\">\n",
              "      <th></th>\n",
              "      <th>low</th>\n",
              "      <th>open</th>\n",
              "      <th>high</th>\n",
              "      <th>close</th>\n",
              "      <th>volume</th>\n",
              "      <th>date</th>\n",
              "      <th>adjclose</th>\n",
              "    </tr>\n",
              "  </thead>\n",
              "  <tbody>\n",
              "    <tr>\n",
              "      <th>0</th>\n",
              "      <td>158.330002</td>\n",
              "      <td>158.779999</td>\n",
              "      <td>160.729996</td>\n",
              "      <td>160.619995</td>\n",
              "      <td>22622100</td>\n",
              "      <td>2020-01-02</td>\n",
              "      <td>160.182480</td>\n",
              "    </tr>\n",
              "    <tr>\n",
              "      <th>1</th>\n",
              "      <td>158.059998</td>\n",
              "      <td>158.320007</td>\n",
              "      <td>159.949997</td>\n",
              "      <td>158.619995</td>\n",
              "      <td>21116200</td>\n",
              "      <td>2020-01-03</td>\n",
              "      <td>158.187927</td>\n",
              "    </tr>\n",
              "    <tr>\n",
              "      <th>2</th>\n",
              "      <td>156.509995</td>\n",
              "      <td>157.080002</td>\n",
              "      <td>159.100006</td>\n",
              "      <td>159.029999</td>\n",
              "      <td>20813700</td>\n",
              "      <td>2020-01-06</td>\n",
              "      <td>158.596817</td>\n",
              "    </tr>\n",
              "    <tr>\n",
              "      <th>3</th>\n",
              "      <td>157.320007</td>\n",
              "      <td>159.320007</td>\n",
              "      <td>159.669998</td>\n",
              "      <td>157.580002</td>\n",
              "      <td>21634100</td>\n",
              "      <td>2020-01-07</td>\n",
              "      <td>157.150772</td>\n",
              "    </tr>\n",
              "    <tr>\n",
              "      <th>4</th>\n",
              "      <td>157.949997</td>\n",
              "      <td>158.929993</td>\n",
              "      <td>160.800003</td>\n",
              "      <td>160.089996</td>\n",
              "      <td>27746500</td>\n",
              "      <td>2020-01-08</td>\n",
              "      <td>159.653915</td>\n",
              "    </tr>\n",
              "  </tbody>\n",
              "</table>\n",
              "</div>"
            ],
            "text/plain": [
              "          low        open        high  ...    volume        date    adjclose\n",
              "0  158.330002  158.779999  160.729996  ...  22622100  2020-01-02  160.182480\n",
              "1  158.059998  158.320007  159.949997  ...  21116200  2020-01-03  158.187927\n",
              "2  156.509995  157.080002  159.100006  ...  20813700  2020-01-06  158.596817\n",
              "3  157.320007  159.320007  159.669998  ...  21634100  2020-01-07  157.150772\n",
              "4  157.949997  158.929993  160.800003  ...  27746500  2020-01-08  159.653915\n",
              "\n",
              "[5 rows x 7 columns]"
            ]
          },
          "metadata": {
            "tags": []
          },
          "execution_count": 13
        }
      ]
    },
    {
      "cell_type": "code",
      "metadata": {
        "id": "dTWCdU1ja-bU",
        "colab_type": "code",
        "colab": {}
      },
      "source": [
        "# Function to get data\n",
        "\n",
        "def get_data(df):  \n",
        "    data = df.copy()\n",
        "    data['date'] = data['date'].str.split('-').str[2]\n",
        "    data['date'] = pd.to_numeric(data['date'])\n",
        "    return [ data['date'].tolist(), data['close'].tolist() ] # Convert Series to listdates\n",
        "\n",
        "dates, prices = get_data(df)"
      ],
      "execution_count": 0,
      "outputs": []
    },
    {
      "cell_type": "code",
      "metadata": {
        "id": "hfHekUlra-bW",
        "colab_type": "code",
        "colab": {}
      },
      "source": [
        "def predict_price(dates, prices, x):\n",
        "    dates = np.reshape(dates,(len(dates), 1)) # convert to 1 x n dimension\n",
        "    x = np.reshape(x,(len(x), 1))\n",
        "    \n",
        "    svr_lin  = SVR(kernel='linear', C=1e3)           # linear kernel\n",
        "    svr_poly = SVR(kernel='poly', C=1e3, degree=2)   # polynomial kernel\n",
        "    svr_rbf = SVR(kernel='rbf', C=1e3, gamma=0.1)    # radial basis function (RBF) kernel\n",
        "    \n",
        "    # Fit regression model for kernels\n",
        "    svr_lin.fit(dates, prices)\n",
        "    svr_poly.fit(dates, prices)\n",
        "    svr_rbf.fit(dates, prices)\n",
        "    \n",
        "    # Print Scores for each model\n",
        "    rbf_score = svr_rbf.score(dates, prices)\n",
        "    lin_score = svr_lin.score(dates, prices)\n",
        "    poly_score = svr_poly.score(dates, prices)\n",
        "\n",
        "    \n",
        "    # Plot results\n",
        "    plt.scatter(dates, prices, c='k', label='Data')\n",
        "    plt.plot(dates, svr_lin.predict(dates), c='g', label='Linear model')\n",
        "    plt.plot(dates, svr_rbf.predict(dates), c='r', label='RBF model')    \n",
        "    plt.plot(dates, svr_poly.predict(dates), c='b', label='Polynomial model')\n",
        "    plt.xlabel('Date')\n",
        "    plt.ylabel('Price')\n",
        "    plt.title('Microsoft Support Vector Regression Among 3 Models')\n",
        "    plt.legend()\n",
        "    plt.show()\n",
        "    \n",
        "    # Print Figures\n",
        "    print(\"Radial Basis Function prediction: \",svr_rbf.predict(x)),\n",
        "    print(\"Linear Model Prediction: \", svr_lin.predict(x)), \n",
        "    print(\"Polynomial Model Prediction: \", svr_poly.predict(x) )\n",
        "    print(\" \")\n",
        "    print(\"Radial Basis Function Score: \", rbf_score)\n",
        "    print(\"Linear Model Score: \", lin_score)\n",
        "    print(\"Polynomial Model Score: \", poly_score)\n",
        "    return svr_rbf.predict(x)[0], svr_lin.predict(x)[0], svr_poly.predict(x)[0]"
      ],
      "execution_count": 0,
      "outputs": []
    },
    {
      "cell_type": "code",
      "metadata": {
        "id": "cIwv9kAIa-bY",
        "colab_type": "code",
        "outputId": "f1e15416-4c90-4d3b-f07e-29e1e490b332",
        "colab": {
          "base_uri": "https://localhost:8080/",
          "height": 431
        }
      },
      "source": [
        "predict_price(dates, prices, [31]) # Here we call the function and pass the number [31], in order to predict\n",
        "                                   # the next stock price from the linear, polynomial, and RBF kernels, respectively."
      ],
      "execution_count": 16,
      "outputs": [
        {
          "output_type": "display_data",
          "data": {
            "image/png": "[encoded data removed]",
            "text/plain": [
              "<Figure size 432x288 with 1 Axes>"
            ]
          },
          "metadata": {
            "tags": [],
            "needs_background": "light"
          }
        },
        {
          "output_type": "stream",
          "text": [
            "Radial Basis Function prediction:  [169.9550623]\n",
            "Linear Model Prediction:  [168.84000244]\n",
            "Polynomial Model Prediction:  [169.21715366]\n",
            " \n",
            "Radial Basis Function Score:  0.9989894578797974\n",
            "Linear Model Score:  0.6137008930047312\n",
            "Polynomial Model Score:  0.5277127354179365\n"
          ],
          "name": "stdout"
        },
        {
          "output_type": "execute_result",
          "data": {
            "text/plain": [
              "(169.95506230053917, 168.84000244208988, 169.21715366370722)"
            ]
          },
          "metadata": {
            "tags": []
          },
          "execution_count": 16
        }
      ]
    },
    {
      "cell_type": "code",
      "metadata": {
        "scrolled": false,
        "id": "hzbE38yWa-bb",
        "colab_type": "code",
        "outputId": "8493da86-0357-4afc-de03-2817c910a43b",
        "colab": {
          "base_uri": "https://localhost:8080/",
          "height": 34
        }
      },
      "source": [
        "# Grab the true value of the following stock to compare to the 3 models.\n",
        "\n",
        "true_price = td.get_historical_prices('2020-01-31', '2020-02-01')\n",
        "true_price['close']"
      ],
      "execution_count": 17,
      "outputs": [
        {
          "output_type": "execute_result",
          "data": {
            "text/plain": [
              "[170.22999572753906]"
            ]
          },
          "metadata": {
            "tags": []
          },
          "execution_count": 17
        }
      ]
    },
    {
      "cell_type": "markdown",
      "metadata": {
        "id": "489pnaROa-bd",
        "colab_type": "text"
      },
      "source": [
        "After running this model with a number of stocks such as TSLA, MSFT, NFLX, NVDA, and more, it seems that the RBF model and the Polynomial model do better job at accurately predicting the next stocks price. This makes sense as most stock prices usually don't follow a linear model."
      ]
    }
  ]
}