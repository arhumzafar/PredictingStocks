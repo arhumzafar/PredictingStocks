{
 "cells": [
  {
   "cell_type": "markdown",
   "metadata": {},
   "source": [
    "After seeing the overfitting behvaior from the Linear Regression Model, we decided to try out the Random Forest Model. A Random Forest is an ensemble method, comprised of numerous decision trees."
   ]
  },
  {
   "cell_type": "code",
   "execution_count": 1,
   "metadata": {},
   "outputs": [],
   "source": [
    "import numpy as np\n",
    "import sklearn\n",
    "from sklearn.ensemble import RandomForestClassifier\n",
    "import quandl\n",
    "import matplotlib.pyplot as plt\n",
    "%matplotlib inline"
   ]
  },
  {
   "cell_type": "code",
   "execution_count": 2,
   "metadata": {},
   "outputs": [
    {
     "data": {
      "text/html": [
       "<div>\n",
       "<style scoped>\n",
       "    .dataframe tbody tr th:only-of-type {\n",
       "        vertical-align: middle;\n",
       "    }\n",
       "\n",
       "    .dataframe tbody tr th {\n",
       "        vertical-align: top;\n",
       "    }\n",
       "\n",
       "    .dataframe thead th {\n",
       "        text-align: right;\n",
       "    }\n",
       "</style>\n",
       "<table border=\"1\" class=\"dataframe\">\n",
       "  <thead>\n",
       "    <tr style=\"text-align: right;\">\n",
       "      <th></th>\n",
       "      <th>Open</th>\n",
       "      <th>High</th>\n",
       "      <th>Low</th>\n",
       "      <th>Close</th>\n",
       "      <th>Volume</th>\n",
       "      <th>Ex-Dividend</th>\n",
       "      <th>Split Ratio</th>\n",
       "      <th>Adj. Open</th>\n",
       "      <th>Adj. High</th>\n",
       "      <th>Adj. Low</th>\n",
       "      <th>Adj. Close</th>\n",
       "      <th>Adj. Volume</th>\n",
       "    </tr>\n",
       "    <tr>\n",
       "      <th>Date</th>\n",
       "      <th></th>\n",
       "      <th></th>\n",
       "      <th></th>\n",
       "      <th></th>\n",
       "      <th></th>\n",
       "      <th></th>\n",
       "      <th></th>\n",
       "      <th></th>\n",
       "      <th></th>\n",
       "      <th></th>\n",
       "      <th></th>\n",
       "      <th></th>\n",
       "    </tr>\n",
       "  </thead>\n",
       "  <tbody>\n",
       "    <tr>\n",
       "      <td>2018-03-21</td>\n",
       "      <td>249.32</td>\n",
       "      <td>252.00</td>\n",
       "      <td>247.330</td>\n",
       "      <td>248.56</td>\n",
       "      <td>10841782.0</td>\n",
       "      <td>0.0</td>\n",
       "      <td>1.0</td>\n",
       "      <td>249.32</td>\n",
       "      <td>252.00</td>\n",
       "      <td>247.330</td>\n",
       "      <td>248.56</td>\n",
       "      <td>10841782.0</td>\n",
       "    </tr>\n",
       "    <tr>\n",
       "      <td>2018-03-22</td>\n",
       "      <td>246.00</td>\n",
       "      <td>247.88</td>\n",
       "      <td>240.341</td>\n",
       "      <td>241.85</td>\n",
       "      <td>13663927.0</td>\n",
       "      <td>0.0</td>\n",
       "      <td>1.0</td>\n",
       "      <td>246.00</td>\n",
       "      <td>247.88</td>\n",
       "      <td>240.341</td>\n",
       "      <td>241.85</td>\n",
       "      <td>13663927.0</td>\n",
       "    </tr>\n",
       "    <tr>\n",
       "      <td>2018-03-23</td>\n",
       "      <td>242.40</td>\n",
       "      <td>242.67</td>\n",
       "      <td>232.520</td>\n",
       "      <td>232.97</td>\n",
       "      <td>18225390.0</td>\n",
       "      <td>0.0</td>\n",
       "      <td>1.0</td>\n",
       "      <td>242.40</td>\n",
       "      <td>242.67</td>\n",
       "      <td>232.520</td>\n",
       "      <td>232.97</td>\n",
       "      <td>18225390.0</td>\n",
       "    </tr>\n",
       "    <tr>\n",
       "      <td>2018-03-26</td>\n",
       "      <td>238.00</td>\n",
       "      <td>244.53</td>\n",
       "      <td>235.900</td>\n",
       "      <td>244.48</td>\n",
       "      <td>15130542.0</td>\n",
       "      <td>0.0</td>\n",
       "      <td>1.0</td>\n",
       "      <td>238.00</td>\n",
       "      <td>244.53</td>\n",
       "      <td>235.900</td>\n",
       "      <td>244.48</td>\n",
       "      <td>15130542.0</td>\n",
       "    </tr>\n",
       "    <tr>\n",
       "      <td>2018-03-27</td>\n",
       "      <td>247.75</td>\n",
       "      <td>250.00</td>\n",
       "      <td>219.845</td>\n",
       "      <td>225.52</td>\n",
       "      <td>34462113.0</td>\n",
       "      <td>0.0</td>\n",
       "      <td>1.0</td>\n",
       "      <td>247.75</td>\n",
       "      <td>250.00</td>\n",
       "      <td>219.845</td>\n",
       "      <td>225.52</td>\n",
       "      <td>34462113.0</td>\n",
       "    </tr>\n",
       "  </tbody>\n",
       "</table>\n",
       "</div>"
      ],
      "text/plain": [
       "              Open    High      Low   Close      Volume  Ex-Dividend  \\\n",
       "Date                                                                   \n",
       "2018-03-21  249.32  252.00  247.330  248.56  10841782.0          0.0   \n",
       "2018-03-22  246.00  247.88  240.341  241.85  13663927.0          0.0   \n",
       "2018-03-23  242.40  242.67  232.520  232.97  18225390.0          0.0   \n",
       "2018-03-26  238.00  244.53  235.900  244.48  15130542.0          0.0   \n",
       "2018-03-27  247.75  250.00  219.845  225.52  34462113.0          0.0   \n",
       "\n",
       "            Split Ratio  Adj. Open  Adj. High  Adj. Low  Adj. Close  \\\n",
       "Date                                                                  \n",
       "2018-03-21          1.0     249.32     252.00   247.330      248.56   \n",
       "2018-03-22          1.0     246.00     247.88   240.341      241.85   \n",
       "2018-03-23          1.0     242.40     242.67   232.520      232.97   \n",
       "2018-03-26          1.0     238.00     244.53   235.900      244.48   \n",
       "2018-03-27          1.0     247.75     250.00   219.845      225.52   \n",
       "\n",
       "            Adj. Volume  \n",
       "Date                     \n",
       "2018-03-21   10841782.0  \n",
       "2018-03-22   13663927.0  \n",
       "2018-03-23   18225390.0  \n",
       "2018-03-26   15130542.0  \n",
       "2018-03-27   34462113.0  "
      ]
     },
     "execution_count": 2,
     "metadata": {},
     "output_type": "execute_result"
    }
   ],
   "source": [
    "data = quandl.get(\"WIKI/NVDA\")\n",
    "data.tail()"
   ]
  },
  {
   "cell_type": "code",
   "execution_count": 3,
   "metadata": {},
   "outputs": [],
   "source": [
    "# Create Features\n",
    "\n",
    "data['Open-Close'] = (data.Open - data.Close)/data.Open\n",
    "data['High-Low'] = (data.High - data.Low)/data.Low\n",
    "data['percent_change'] = data['Adj. Close'].pct_change()\n",
    "data['std_5'] = data['percent_change'].rolling(5).std()\n",
    "data['ret_5'] = data['percent_change'].rolling(5).mean()\n",
    "data.dropna(inplace=True)\n",
    "\n",
    "# X is the input variable\n",
    "X = data[['Open-Close', 'High-Low', 'std_5', 'ret_5']]\n",
    "\n",
    "# y is the target or output variable\n",
    "y = np.where(data['Adj. Close'].shift(-1) > data['Adj. Close'], 1, -1)"
   ]
  },
  {
   "cell_type": "code",
   "execution_count": 4,
   "metadata": {},
   "outputs": [
    {
     "data": {
      "text/plain": [
       "3615"
      ]
     },
     "execution_count": 4,
     "metadata": {},
     "output_type": "execute_result"
    }
   ],
   "source": [
    "## Split data ##\n",
    "# data length \n",
    "data_length = data.shape[0]\n",
    "\n",
    "# Training dataset length - where 75% training, 25%\n",
    "split = int(data_length * 0.75)\n",
    "split"
   ]
  },
  {
   "cell_type": "code",
   "execution_count": 5,
   "metadata": {},
   "outputs": [
    {
     "name": "stdout",
     "output_type": "stream",
     "text": [
      "(3615, 4) (1205, 4)\n",
      "(3615,) (1205,)\n"
     ]
    }
   ],
   "source": [
    "# x/y train and test\n",
    "X_train, X_test = X[:split], X[split:]\n",
    "y_train, y_test = y[:split], y[split:]\n",
    "\n",
    "# Print size of train and test dataset to verify dimensions\n",
    "print(X_train.shape, X_test.shape)\n",
    "print(y_train.shape, y_test.shape)"
   ]
  },
  {
   "cell_type": "code",
   "execution_count": 6,
   "metadata": {},
   "outputs": [
    {
     "name": "stdout",
     "output_type": "stream",
     "text": [
      "Correct Prediction (%):  49.37759336099585\n"
     ]
    },
    {
     "name": "stderr",
     "output_type": "stream",
     "text": [
      "C:\\Users\\Desmond\\Anaconda3\\lib\\site-packages\\sklearn\\ensemble\\forest.py:245: FutureWarning: The default value of n_estimators will change from 10 in version 0.20 to 100 in 0.22.\n",
      "  \"10 in version 0.20 to 100 in 0.22.\", FutureWarning)\n"
     ]
    }
   ],
   "source": [
    "# Establish and train Random Forest model\n",
    "rf = RandomForestClassifier(random_state = 5)\n",
    "model = rf.fit(X_train, y_train)\n",
    "\n",
    "# Test and find accuracy\n",
    "from sklearn.metrics import accuracy_score\n",
    "print('Correct Prediction (%): ', accuracy_score(y_test, model.predict(X_test), normalize=True)*100.0)"
   ]
  },
  {
   "cell_type": "code",
   "execution_count": 7,
   "metadata": {},
   "outputs": [
    {
     "name": "stdout",
     "output_type": "stream",
     "text": [
      "              precision    recall  f1-score   support\n",
      "\n",
      "          -1       0.46      0.57      0.51       553\n",
      "           1       0.54      0.43      0.48       652\n",
      "\n",
      "    accuracy                           0.49      1205\n",
      "   macro avg       0.50      0.50      0.49      1205\n",
      "weighted avg       0.50      0.49      0.49      1205\n",
      "\n"
     ]
    }
   ],
   "source": [
    "# View classifcation reports \n",
    "from sklearn.metrics import classification_report\n",
    "report = classification_report(y_test, model.predict(X_test))\n",
    "print(report)"
   ]
  },
  {
   "cell_type": "code",
   "execution_count": 9,
   "metadata": {
    "scrolled": true
   },
   "outputs": [
    {
     "data": {
      "image/png": "[encoded data removed]",
      "text/plain": [
       "<Figure size 432x288 with 1 Axes>"
      ]
     },
     "metadata": {
      "needs_background": "light"
     },
     "output_type": "display_data"
    }
   ],
   "source": [
    "# Create new feature that quantifies returns\n",
    "data['strategy_returns'] = data.percent_change.shift(-1) * model.predict(X)\n",
    "\n",
    "# Plot Return Histograms\n",
    "# This plot represents the returns in %, and how often they have occurred.\n",
    "data.strategy_returns[split:].hist()\n",
    "plt.xlabel('NVIDIA Strategy returns (%)')\n",
    "plt.show()"
   ]
  },
  {
   "cell_type": "code",
   "execution_count": 10,
   "metadata": {},
   "outputs": [
    {
     "data": {
      "image/png": "[encoded data removed]",
      "text/plain": [
       "<Figure size 432x288 with 1 Axes>"
      ]
     },
     "metadata": {
      "needs_background": "light"
     },
     "output_type": "display_data"
    }
   ],
   "source": [
    "# This plot shows how the returns fluctuate over time.\n",
    "(data.strategy_returns[split:]+1).cumprod().plot()\n",
    "plt.title(\"NVIDIA Strategy returns (%) \")\n",
    "plt.ylabel('Strategy returns (%)')\n",
    "plt.show()"
   ]
  },
  {
   "cell_type": "markdown",
   "metadata": {},
   "source": [
    "With an accuracy score much lower than the previous models that we've tested before, the Random Forest shows signs of underfitting, while attaining a decent generalization of the dataset. The graphs created from the output of the model allow an investor to see how often large returns are seen from a certain stock, which can persaude them to invest, or to look elsewhere. \n",
    "<br>\n",
    "Once again, we have built a model that provides us insight, but doesn't give us a viable means to predict the behavior of a stock correctly."
   ]
  }
 ],
 "metadata": {
  "kernelspec": {
   "display_name": "Python 3",
   "language": "python",
   "name": "python3"
  },
  "language_info": {
   "codemirror_mode": {
    "name": "ipython",
    "version": 3
   },
   "file_extension": ".py",
   "mimetype": "text/x-python",
   "name": "python",
   "nbconvert_exporter": "python",
   "pygments_lexer": "ipython3",
   "version": "3.7.4"
  }
 },
 "nbformat": 4,
 "nbformat_minor": 4
}
