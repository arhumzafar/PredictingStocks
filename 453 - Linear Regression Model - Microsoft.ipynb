{
 "cells": [
  {
   "cell_type": "code",
   "execution_count": 23,
   "metadata": {},
   "outputs": [],
   "source": [
    "import quandl\n",
    "import numpy as np \n",
    "from sklearn.linear_model import LinearRegression\n",
    "from sklearn.svm import SVR\n",
    "from sklearn.model_selection import train_test_split\n",
    "quandl.ApiConfig.api_key = \"K42xtcTyEM7To-P_MwmN\"\n",
    "import matplotlib.pyplot as plt"
   ]
  },
  {
   "cell_type": "code",
   "execution_count": 24,
   "metadata": {
    "scrolled": false
   },
   "outputs": [
    {
     "data": {
      "text/html": [
       "<div>\n",
       "<style scoped>\n",
       "    .dataframe tbody tr th:only-of-type {\n",
       "        vertical-align: middle;\n",
       "    }\n",
       "\n",
       "    .dataframe tbody tr th {\n",
       "        vertical-align: top;\n",
       "    }\n",
       "\n",
       "    .dataframe thead th {\n",
       "        text-align: right;\n",
       "    }\n",
       "</style>\n",
       "<table border=\"1\" class=\"dataframe\">\n",
       "  <thead>\n",
       "    <tr style=\"text-align: right;\">\n",
       "      <th></th>\n",
       "      <th>Open</th>\n",
       "      <th>High</th>\n",
       "      <th>Low</th>\n",
       "      <th>Close</th>\n",
       "      <th>Volume</th>\n",
       "      <th>Ex-Dividend</th>\n",
       "      <th>Split Ratio</th>\n",
       "      <th>Adj. Open</th>\n",
       "      <th>Adj. High</th>\n",
       "      <th>Adj. Low</th>\n",
       "      <th>Adj. Close</th>\n",
       "      <th>Adj. Volume</th>\n",
       "    </tr>\n",
       "    <tr>\n",
       "      <th>Date</th>\n",
       "      <th></th>\n",
       "      <th></th>\n",
       "      <th></th>\n",
       "      <th></th>\n",
       "      <th></th>\n",
       "      <th></th>\n",
       "      <th></th>\n",
       "      <th></th>\n",
       "      <th></th>\n",
       "      <th></th>\n",
       "      <th></th>\n",
       "      <th></th>\n",
       "    </tr>\n",
       "  </thead>\n",
       "  <tbody>\n",
       "    <tr>\n",
       "      <td>1986-03-13</td>\n",
       "      <td>25.50</td>\n",
       "      <td>29.25</td>\n",
       "      <td>25.5</td>\n",
       "      <td>28.00</td>\n",
       "      <td>3582600.0</td>\n",
       "      <td>0.0</td>\n",
       "      <td>1.0</td>\n",
       "      <td>0.058941</td>\n",
       "      <td>0.067609</td>\n",
       "      <td>0.058941</td>\n",
       "      <td>0.064720</td>\n",
       "      <td>1.031789e+09</td>\n",
       "    </tr>\n",
       "    <tr>\n",
       "      <td>1986-03-14</td>\n",
       "      <td>28.00</td>\n",
       "      <td>29.50</td>\n",
       "      <td>28.0</td>\n",
       "      <td>29.00</td>\n",
       "      <td>1070000.0</td>\n",
       "      <td>0.0</td>\n",
       "      <td>1.0</td>\n",
       "      <td>0.064720</td>\n",
       "      <td>0.068187</td>\n",
       "      <td>0.064720</td>\n",
       "      <td>0.067031</td>\n",
       "      <td>3.081600e+08</td>\n",
       "    </tr>\n",
       "    <tr>\n",
       "      <td>1986-03-17</td>\n",
       "      <td>29.00</td>\n",
       "      <td>29.75</td>\n",
       "      <td>29.0</td>\n",
       "      <td>29.50</td>\n",
       "      <td>462400.0</td>\n",
       "      <td>0.0</td>\n",
       "      <td>1.0</td>\n",
       "      <td>0.067031</td>\n",
       "      <td>0.068765</td>\n",
       "      <td>0.067031</td>\n",
       "      <td>0.068187</td>\n",
       "      <td>1.331712e+08</td>\n",
       "    </tr>\n",
       "    <tr>\n",
       "      <td>1986-03-18</td>\n",
       "      <td>29.50</td>\n",
       "      <td>29.75</td>\n",
       "      <td>28.5</td>\n",
       "      <td>28.75</td>\n",
       "      <td>235300.0</td>\n",
       "      <td>0.0</td>\n",
       "      <td>1.0</td>\n",
       "      <td>0.068187</td>\n",
       "      <td>0.068765</td>\n",
       "      <td>0.065876</td>\n",
       "      <td>0.066454</td>\n",
       "      <td>6.776640e+07</td>\n",
       "    </tr>\n",
       "    <tr>\n",
       "      <td>1986-03-19</td>\n",
       "      <td>28.75</td>\n",
       "      <td>29.00</td>\n",
       "      <td>28.0</td>\n",
       "      <td>28.25</td>\n",
       "      <td>166300.0</td>\n",
       "      <td>0.0</td>\n",
       "      <td>1.0</td>\n",
       "      <td>0.066454</td>\n",
       "      <td>0.067031</td>\n",
       "      <td>0.064720</td>\n",
       "      <td>0.065298</td>\n",
       "      <td>4.789440e+07</td>\n",
       "    </tr>\n",
       "  </tbody>\n",
       "</table>\n",
       "</div>"
      ],
      "text/plain": [
       "             Open   High   Low  Close     Volume  Ex-Dividend  Split Ratio  \\\n",
       "Date                                                                         \n",
       "1986-03-13  25.50  29.25  25.5  28.00  3582600.0          0.0          1.0   \n",
       "1986-03-14  28.00  29.50  28.0  29.00  1070000.0          0.0          1.0   \n",
       "1986-03-17  29.00  29.75  29.0  29.50   462400.0          0.0          1.0   \n",
       "1986-03-18  29.50  29.75  28.5  28.75   235300.0          0.0          1.0   \n",
       "1986-03-19  28.75  29.00  28.0  28.25   166300.0          0.0          1.0   \n",
       "\n",
       "            Adj. Open  Adj. High  Adj. Low  Adj. Close   Adj. Volume  \n",
       "Date                                                                  \n",
       "1986-03-13   0.058941   0.067609  0.058941    0.064720  1.031789e+09  \n",
       "1986-03-14   0.064720   0.068187  0.064720    0.067031  3.081600e+08  \n",
       "1986-03-17   0.067031   0.068765  0.067031    0.068187  1.331712e+08  \n",
       "1986-03-18   0.068187   0.068765  0.065876    0.066454  6.776640e+07  \n",
       "1986-03-19   0.066454   0.067031  0.064720    0.065298  4.789440e+07  "
      ]
     },
     "execution_count": 24,
     "metadata": {},
     "output_type": "execute_result"
    }
   ],
   "source": [
    "# Import the Data and get an overview of what is looks like.\n",
    "# To analyze a different stock, enter the ticker symbol \n",
    "df = quandl.get(\"WIKI/MSFT\")\n",
    "df.head()"
   ]
  },
  {
   "cell_type": "code",
   "execution_count": 25,
   "metadata": {
    "scrolled": true
   },
   "outputs": [
    {
     "data": {
      "text/html": [
       "<div>\n",
       "<style scoped>\n",
       "    .dataframe tbody tr th:only-of-type {\n",
       "        vertical-align: middle;\n",
       "    }\n",
       "\n",
       "    .dataframe tbody tr th {\n",
       "        vertical-align: top;\n",
       "    }\n",
       "\n",
       "    .dataframe thead th {\n",
       "        text-align: right;\n",
       "    }\n",
       "</style>\n",
       "<table border=\"1\" class=\"dataframe\">\n",
       "  <thead>\n",
       "    <tr style=\"text-align: right;\">\n",
       "      <th></th>\n",
       "      <th>Adj. Close</th>\n",
       "    </tr>\n",
       "    <tr>\n",
       "      <th>Date</th>\n",
       "      <th></th>\n",
       "    </tr>\n",
       "  </thead>\n",
       "  <tbody>\n",
       "    <tr>\n",
       "      <td>1986-03-13</td>\n",
       "      <td>0.064720</td>\n",
       "    </tr>\n",
       "    <tr>\n",
       "      <td>1986-03-14</td>\n",
       "      <td>0.067031</td>\n",
       "    </tr>\n",
       "    <tr>\n",
       "      <td>1986-03-17</td>\n",
       "      <td>0.068187</td>\n",
       "    </tr>\n",
       "    <tr>\n",
       "      <td>1986-03-18</td>\n",
       "      <td>0.066454</td>\n",
       "    </tr>\n",
       "    <tr>\n",
       "      <td>1986-03-19</td>\n",
       "      <td>0.065298</td>\n",
       "    </tr>\n",
       "  </tbody>\n",
       "</table>\n",
       "</div>"
      ],
      "text/plain": [
       "            Adj. Close\n",
       "Date                  \n",
       "1986-03-13    0.064720\n",
       "1986-03-14    0.067031\n",
       "1986-03-17    0.068187\n",
       "1986-03-18    0.066454\n",
       "1986-03-19    0.065298"
      ]
     },
     "execution_count": 25,
     "metadata": {},
     "output_type": "execute_result"
    }
   ],
   "source": [
    "# We will be focusing on the Adj. Closing Price, which is the price the stock's closing price AFTER accounting for\n",
    "# for any corporate actions.\n",
    "# Below, we store it into a dataframe.\n",
    "\n",
    "df = df[['Adj. Close']]\n",
    "df.head()"
   ]
  },
  {
   "cell_type": "code",
   "execution_count": 26,
   "metadata": {},
   "outputs": [
    {
     "name": "stdout",
     "output_type": "stream",
     "text": [
      "[7.80106897e-02 7.85885467e-02 7.62771188e-02 ... 8.71800000e+01\n",
      " 9.37800000e+01 8.94700000e+01]\n"
     ]
    }
   ],
   "source": [
    "# We use the variable below to store how long we want to predict, or forecast, the stock's behavior.\n",
    "forecast_out = 30 # where 30 equals 30 days into the future\n",
    "com = df[-30:] # store the last 30 days of data, we'll use this to compare it to our prediction\n",
    "compare = com.to_numpy()\n",
    "\n",
    "#Create another column (the target or dependent variable) shifted 'n' units up\n",
    "df['Prediction'] = df[['Adj. Close']].shift(-forecast_out)\n",
    "\n",
    "df.head()\n",
    "\n",
    "### Create the independent data set (X)  #######\n",
    "# Convert the dataframe to a numpy array\n",
    "X = np.array(df.drop(['Prediction'],1))\n",
    "\n",
    "#Remove the last 'n' rows, as will be predicting them and don't want to train on those values.\n",
    "X = X[:-forecast_out]\n",
    "\n",
    "\n",
    "### Create the dependent data set (y)  #####\n",
    "# Convert the dataframe to a numpy array (All of the values including the NaN's)\n",
    "y = np.array(df['Prediction'])\n",
    "\n",
    "# Get all of the y values except the last 'n' rows.\n",
    "y = y[:-forecast_out]\n",
    "print(y)"
   ]
  },
  {
   "cell_type": "code",
   "execution_count": 27,
   "metadata": {},
   "outputs": [
    {
     "data": {
      "text/plain": [
       "LinearRegression(copy_X=True, fit_intercept=True, n_jobs=None, normalize=False)"
      ]
     },
     "execution_count": 27,
     "metadata": {},
     "output_type": "execute_result"
    }
   ],
   "source": [
    "# Split the data into 80% training and 20% testing\n",
    "x_train, x_test, y_train, y_test = train_test_split(X, y, test_size=0.2)\n",
    "\n",
    "# Create and train the Linear Regression  Model\n",
    "lr = LinearRegression()\n",
    "\n",
    "# Train the model\n",
    "lr.fit(x_train, y_train)"
   ]
  },
  {
   "cell_type": "code",
   "execution_count": 28,
   "metadata": {},
   "outputs": [
    {
     "name": "stdout",
     "output_type": "stream",
     "text": [
      "The accuracy score for the model is:  0.9857348790077273\n"
     ]
    }
   ],
   "source": [
    "# Testing Model: Score returns the coefficient of determination R^2 of the prediction. \n",
    "# The best possible score is 1.0\n",
    "\n",
    "lr_test = lr.score(x_test, y_test)\n",
    "print(\"The accuracy score for the model is: \", lr_test)"
   ]
  },
  {
   "cell_type": "code",
   "execution_count": 29,
   "metadata": {},
   "outputs": [
    {
     "name": "stdout",
     "output_type": "stream",
     "text": [
      "[92.07661511 93.08258547 94.98161114 94.3041209  95.04320116 93.78060571\n",
      " 94.0372308  96.41871165 97.81475214 96.5624217  96.12102654 95.17664621\n",
      " 95.38194628 95.98758149 95.65910138 96.21341157 96.79851678 98.96443255\n",
      " 99.20052763 96.77798677 96.20314657 96.54189169 96.97302184 95.21770622\n",
      " 95.46406631 94.79684107 92.03555509 89.35638915 96.13129154 91.70707498]\n"
     ]
    }
   ],
   "source": [
    "# Set x_forecast equal to the last 30 rows of the original data set from Adj. Close column\n",
    "x_forecast = np.array(df.drop(['Prediction'],1))[-forecast_out:]\n",
    "\n",
    "# Print linear regression model predictions for the next 'n' days\n",
    "lr_prediction = lr.predict(x_forecast)\n",
    "print(lr_prediction)"
   ]
  },
  {
   "cell_type": "code",
   "execution_count": 31,
   "metadata": {},
   "outputs": [
    {
     "data": {
      "text/plain": [
       "<matplotlib.legend.Legend at 0x2783d5a7bc8>"
      ]
     },
     "execution_count": 31,
     "metadata": {},
     "output_type": "execute_result"
    },
    {
     "data": {
      "image/png": "[encoded data removed]",
      "text/plain": [
       "<Figure size 720x504 with 1 Axes>"
      ]
     },
     "metadata": {
      "needs_background": "light"
     },
     "output_type": "display_data"
    }
   ],
   "source": [
    "# Plotting prediction vs actual price over 30 day period\n",
    "plt.figure(figsize=(10,7))\n",
    "plt.plot(lr_prediction, c=\"red\", label=\"Regression Line\")\n",
    "plt.plot(x_forecast, c=\"blue\", label=\"True Value\")\n",
    "plt.title(\"Microsoft Regression Prediction vs. Actual Stock Value\")\n",
    "plt.xlabel(\"Days\")\n",
    "plt.ylabel(\"Amount in USD ($)\")\n",
    "plt.legend()"
   ]
  },
  {
   "cell_type": "markdown",
   "metadata": {},
   "source": [
    "After running this model for a number of stocks: TSLA, MSFT, NVDA, NFLX, etc, we tend to see that the model has a tendency to overfit. We observe this as the regression analysis is producing misleading R-squared values. <br>\n",
    "<br>\n",
    "Overfit regression models have too many terms for the number of observations. By running this model multiple times for different stocks, we tend to see the model represent the noise rather than the genuine relationships within the stocks behavior."
   ]
  }
 ],
 "metadata": {
  "kernelspec": {
   "display_name": "Python 3",
   "language": "python",
   "name": "python3"
  },
  "language_info": {
   "codemirror_mode": {
    "name": "ipython",
    "version": 3
   },
   "file_extension": ".py",
   "mimetype": "text/x-python",
   "name": "python",
   "nbconvert_exporter": "python",
   "pygments_lexer": "ipython3",
   "version": "3.7.4"
  }
 },
 "nbformat": 4,
 "nbformat_minor": 4
}
