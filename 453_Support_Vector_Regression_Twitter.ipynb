{
  "nbformat": 4,
  "nbformat_minor": 0,
  "metadata": {
    "kernelspec": {
      "display_name": "Python 3",
      "language": "python",
      "name": "python3"
    },
    "language_info": {
      "codemirror_mode": {
        "name": "ipython",
        "version": 3
      },
      "file_extension": ".py",
      "mimetype": "text/x-python",
      "name": "python",
      "nbconvert_exporter": "python",
      "pygments_lexer": "ipython3",
      "version": "3.7.4"
    },
    "colab": {
      "name": "453 - Support Vector Regression - Twitter.ipynb",
      "provenance": []
    }
  },
  "cells": [
    {
      "cell_type": "markdown",
      "metadata": {
        "id": "P5XJUbIYa-bM",
        "colab_type": "text"
      },
      "source": [
        "After observing how the Linear Regression Model had a tendecy to learn redundant noise/behavior, *Support Vector Machine (SVM)* analysis become a viable choice to try out. SVMs are a popular machine learning tool for classification and regression, support both linear and nonlinear regression, being referred to as Support Vector Regression (SVR).<br>\n",
        "<br>\n",
        "In this notebook, I will use SVR to make a prediction on the following stock price for a certain stock. I will use the three models for SVR: linear, polynomial, and radial basis function (RBF), which is the default kernel for SVR."
      ]
    },
    {
      "cell_type": "code",
      "metadata": {
        "id": "EtHJdTina-bN",
        "colab_type": "code",
        "colab": {}
      },
      "source": [
        "import numpy as np\n",
        "from sklearn.svm import SVR \n",
        "import matplotlib.pyplot as plt\n",
        "%matplotlib inline\n",
        "import pandas as pd \n",
        "import quandl"
      ],
      "execution_count": 0,
      "outputs": []
    },
    {
      "cell_type": "code",
      "metadata": {
        "id": "uPRv37qea-bR",
        "colab_type": "code",
        "outputId": "3f354e2a-29b3-41a8-b273-b1d20700d0b6",
        "colab": {
          "base_uri": "https://localhost:8080/",
          "height": 204
        }
      },
      "source": [
        "from stockai import Stock\n",
        "\n",
        "td = Stock('TWTR')\n",
        "prices_list = td.get_historical_prices('2020-01-01', '2020-01-30')\n",
        "df = pd.DataFrame.from_dict(prices_list)\n",
        "df.head()"
      ],
      "execution_count": 5,
      "outputs": [
        {
          "output_type": "execute_result",
          "data": {
            "text/html": [
              "<div>\n",
              "<style scoped>\n",
              "    .dataframe tbody tr th:only-of-type {\n",
              "        vertical-align: middle;\n",
              "    }\n",
              "\n",
              "    .dataframe tbody tr th {\n",
              "        vertical-align: top;\n",
              "    }\n",
              "\n",
              "    .dataframe thead th {\n",
              "        text-align: right;\n",
              "    }\n",
              "</style>\n",
              "<table border=\"1\" class=\"dataframe\">\n",
              "  <thead>\n",
              "    <tr style=\"text-align: right;\">\n",
              "      <th></th>\n",
              "      <th>low</th>\n",
              "      <th>high</th>\n",
              "      <th>close</th>\n",
              "      <th>volume</th>\n",
              "      <th>open</th>\n",
              "      <th>date</th>\n",
              "      <th>adjclose</th>\n",
              "    </tr>\n",
              "  </thead>\n",
              "  <tbody>\n",
              "    <tr>\n",
              "      <th>0</th>\n",
              "      <td>31.959999</td>\n",
              "      <td>32.500000</td>\n",
              "      <td>32.299999</td>\n",
              "      <td>10721100</td>\n",
              "      <td>32.310001</td>\n",
              "      <td>2020-01-02</td>\n",
              "      <td>32.299999</td>\n",
              "    </tr>\n",
              "    <tr>\n",
              "      <th>1</th>\n",
              "      <td>31.260000</td>\n",
              "      <td>32.099998</td>\n",
              "      <td>31.520000</td>\n",
              "      <td>14429500</td>\n",
              "      <td>31.709999</td>\n",
              "      <td>2020-01-03</td>\n",
              "      <td>31.520000</td>\n",
              "    </tr>\n",
              "    <tr>\n",
              "      <th>2</th>\n",
              "      <td>31.160000</td>\n",
              "      <td>31.709999</td>\n",
              "      <td>31.639999</td>\n",
              "      <td>12582500</td>\n",
              "      <td>31.230000</td>\n",
              "      <td>2020-01-06</td>\n",
              "      <td>31.639999</td>\n",
              "    </tr>\n",
              "    <tr>\n",
              "      <th>3</th>\n",
              "      <td>31.719999</td>\n",
              "      <td>32.700001</td>\n",
              "      <td>32.540001</td>\n",
              "      <td>13712900</td>\n",
              "      <td>31.799999</td>\n",
              "      <td>2020-01-07</td>\n",
              "      <td>32.540001</td>\n",
              "    </tr>\n",
              "    <tr>\n",
              "      <th>4</th>\n",
              "      <td>32.349998</td>\n",
              "      <td>33.400002</td>\n",
              "      <td>33.049999</td>\n",
              "      <td>14632400</td>\n",
              "      <td>32.349998</td>\n",
              "      <td>2020-01-08</td>\n",
              "      <td>33.049999</td>\n",
              "    </tr>\n",
              "  </tbody>\n",
              "</table>\n",
              "</div>"
            ],
            "text/plain": [
              "         low       high      close    volume       open        date   adjclose\n",
              "0  31.959999  32.500000  32.299999  10721100  32.310001  2020-01-02  32.299999\n",
              "1  31.260000  32.099998  31.520000  14429500  31.709999  2020-01-03  31.520000\n",
              "2  31.160000  31.709999  31.639999  12582500  31.230000  2020-01-06  31.639999\n",
              "3  31.719999  32.700001  32.540001  13712900  31.799999  2020-01-07  32.540001\n",
              "4  32.349998  33.400002  33.049999  14632400  32.349998  2020-01-08  33.049999"
            ]
          },
          "metadata": {
            "tags": []
          },
          "execution_count": 5
        }
      ]
    },
    {
      "cell_type": "code",
      "metadata": {
        "id": "dTWCdU1ja-bU",
        "colab_type": "code",
        "colab": {}
      },
      "source": [
        "# Function to get data\n",
        "\n",
        "def get_data(df):  \n",
        "    data = df.copy()\n",
        "    data['date'] = data['date'].str.split('-').str[2]\n",
        "    data['date'] = pd.to_numeric(data['date'])\n",
        "    return [ data['date'].tolist(), data['close'].tolist() ] # Convert Series to listdates\n",
        "\n",
        "dates, prices = get_data(df)"
      ],
      "execution_count": 0,
      "outputs": []
    },
    {
      "cell_type": "code",
      "metadata": {
        "id": "hfHekUlra-bW",
        "colab_type": "code",
        "colab": {}
      },
      "source": [
        "def predict_price(dates, prices, x):\n",
        "    dates = np.reshape(dates,(len(dates), 1)) # convert to 1 x n dimension\n",
        "    x = np.reshape(x,(len(x), 1))\n",
        "    \n",
        "    svr_lin  = SVR(kernel='linear', C=1e3)           # linear kernel\n",
        "    svr_poly = SVR(kernel='poly', C=1e3, degree=2)   # polynomial kernel\n",
        "    svr_rbf = SVR(kernel='rbf', C=1e3, gamma=0.1)    # radial basis function (RBF) kernel\n",
        "    \n",
        "    # Fit regression model for kernels\n",
        "    svr_lin.fit(dates, prices)\n",
        "    svr_poly.fit(dates, prices)\n",
        "    svr_rbf.fit(dates, prices)\n",
        "    \n",
        "    # Print Scores for each model\n",
        "    rbf_score = svr_rbf.score(dates, prices)\n",
        "    lin_score = svr_lin.score(dates, prices)\n",
        "    poly_score = svr_poly.score(dates, prices)\n",
        "\n",
        "    \n",
        "    # Plot results\n",
        "    plt.scatter(dates, prices, c='k', label='Data')\n",
        "    plt.plot(dates, svr_lin.predict(dates), c='g', label='Linear model')\n",
        "    plt.plot(dates, svr_rbf.predict(dates), c='r', label='RBF model')    \n",
        "    plt.plot(dates, svr_poly.predict(dates), c='b', label='Polynomial model')\n",
        "    plt.xlabel('Date')\n",
        "    plt.ylabel('Price')\n",
        "    plt.title('Twitter Support Vector Regression Among 3 Models')\n",
        "    plt.legend()\n",
        "    plt.show()\n",
        "    \n",
        "    # Print Figures\n",
        "    print(\"Radial Basis Function prediction: \",svr_rbf.predict(x)),\n",
        "    print(\"Linear Model Prediction: \", svr_lin.predict(x)), \n",
        "    print(\"Polynomial Model Prediction: \", svr_poly.predict(x) )\n",
        "    print(\" \")\n",
        "    print(\"Radial Basis Function Score: \", rbf_score)\n",
        "    print(\"Linear Model Score: \", lin_score)\n",
        "    print(\"Polynomial Model Score: \", poly_score)\n",
        "    return svr_rbf.predict(x)[0], svr_lin.predict(x)[0], svr_poly.predict(x)[0]"
      ],
      "execution_count": 0,
      "outputs": []
    },
    {
      "cell_type": "code",
      "metadata": {
        "id": "cIwv9kAIa-bY",
        "colab_type": "code",
        "outputId": "a3c33236-6608-4a7b-bab9-b2b23baddba5",
        "colab": {
          "base_uri": "https://localhost:8080/",
          "height": 431
        }
      },
      "source": [
        "predict_price(dates, prices, [31]) # Here we call the function and pass the number [31], in order to predict\n",
        "                                   # the next stock price from the linear, polynomial, and RBF kernels, respectively."
      ],
      "execution_count": 11,
      "outputs": [
        {
          "output_type": "display_data",
          "data": {
            "image/png": "[encoded data removed]",
            "text/plain": [
              "<Figure size 432x288 with 1 Axes>"
            ]
          },
          "metadata": {
            "tags": [],
            "needs_background": "light"
          }
        },
        {
          "output_type": "stream",
          "text": [
            "Radial Basis Function prediction:  [33.56227751]\n",
            "Linear Model Prediction:  [33.82909199]\n",
            "Polynomial Model Prediction:  [33.88010216]\n",
            " \n",
            "Radial Basis Function Score:  0.9867505494898932\n",
            "Linear Model Score:  0.40694816712169013\n",
            "Polynomial Model Score:  0.25362527265054957\n"
          ],
          "name": "stdout"
        },
        {
          "output_type": "execute_result",
          "data": {
            "text/plain": [
              "(33.56227750977409, 33.82909199124777, 33.88010216375194)"
            ]
          },
          "metadata": {
            "tags": []
          },
          "execution_count": 11
        }
      ]
    },
    {
      "cell_type": "code",
      "metadata": {
        "scrolled": false,
        "id": "hzbE38yWa-bb",
        "colab_type": "code",
        "outputId": "a35887f1-96f8-4301-db3b-fbb2a26df848",
        "colab": {
          "base_uri": "https://localhost:8080/",
          "height": 34
        }
      },
      "source": [
        "# Grab the true value of the following stock to compare to the 3 models.\n",
        "\n",
        "true_price = td.get_historical_prices('2020-01-31', '2020-02-01')\n",
        "true_price['close']"
      ],
      "execution_count": 12,
      "outputs": [
        {
          "output_type": "execute_result",
          "data": {
            "text/plain": [
              "[32.47999954223633]"
            ]
          },
          "metadata": {
            "tags": []
          },
          "execution_count": 12
        }
      ]
    },
    {
      "cell_type": "markdown",
      "metadata": {
        "id": "489pnaROa-bd",
        "colab_type": "text"
      },
      "source": [
        "After running this model with a number of stocks such as TSLA, MSFT, NFLX, NVDA, and more, it seems that the RBF model and the Polynomial model do better job at accurately predicting the next stocks price. This makes sense as most stock prices usually don't follow a linear model."
      ]
    }
  ]
}