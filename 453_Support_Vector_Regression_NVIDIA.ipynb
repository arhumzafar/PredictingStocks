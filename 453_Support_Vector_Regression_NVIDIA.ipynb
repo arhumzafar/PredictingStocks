{
  "nbformat": 4,
  "nbformat_minor": 0,
  "metadata": {
    "kernelspec": {
      "display_name": "Python 3",
      "language": "python",
      "name": "python3"
    },
    "language_info": {
      "codemirror_mode": {
        "name": "ipython",
        "version": 3
      },
      "file_extension": ".py",
      "mimetype": "text/x-python",
      "name": "python",
      "nbconvert_exporter": "python",
      "pygments_lexer": "ipython3",
      "version": "3.7.4"
    },
    "colab": {
      "name": "453 - Support Vector Regression - NVIDIA .ipynb",
      "provenance": []
    }
  },
  "cells": [
    {
      "cell_type": "markdown",
      "metadata": {
        "id": "P5XJUbIYa-bM",
        "colab_type": "text"
      },
      "source": [
        "After observing how the Linear Regression Model had a tendecy to learn redundant noise/behavior, *Support Vector Machine (SVM)* analysis become a viable choice to try out. SVMs are a popular machine learning tool for classification and regression, support both linear and nonlinear regression, being referred to as Support Vector Regression (SVR).<br>\n",
        "<br>\n",
        "In this notebook, I will use SVR to make a prediction on the following stock price for a certain stock. I will use the three models for SVR: linear, polynomial, and radial basis function (RBF), which is the default kernel for SVR."
      ]
    },
    {
      "cell_type": "code",
      "metadata": {
        "id": "EtHJdTina-bN",
        "colab_type": "code",
        "colab": {}
      },
      "source": [
        "import numpy as np\n",
        "from sklearn.svm import SVR \n",
        "import matplotlib.pyplot as plt\n",
        "%matplotlib inline\n",
        "import pandas as pd \n",
        "import quandl"
      ],
      "execution_count": 0,
      "outputs": []
    },
    {
      "cell_type": "code",
      "metadata": {
        "id": "uPRv37qea-bR",
        "colab_type": "code",
        "outputId": "ea7dfd3f-7b29-4bc3-810e-265a5c99b3a9",
        "colab": {
          "base_uri": "https://localhost:8080/",
          "height": 204
        }
      },
      "source": [
        "from stockai import Stock\n",
        "\n",
        "td = Stock('NVDA')\n",
        "prices_list = td.get_historical_prices('2020-01-01', '2020-01-30')\n",
        "df = pd.DataFrame.from_dict(prices_list)\n",
        "df.head()"
      ],
      "execution_count": 0,
      "outputs": [
        {
          "output_type": "execute_result",
          "data": {
            "text/html": [
              "<div>\n",
              "<style scoped>\n",
              "    .dataframe tbody tr th:only-of-type {\n",
              "        vertical-align: middle;\n",
              "    }\n",
              "\n",
              "    .dataframe tbody tr th {\n",
              "        vertical-align: top;\n",
              "    }\n",
              "\n",
              "    .dataframe thead th {\n",
              "        text-align: right;\n",
              "    }\n",
              "</style>\n",
              "<table border=\"1\" class=\"dataframe\">\n",
              "  <thead>\n",
              "    <tr style=\"text-align: right;\">\n",
              "      <th></th>\n",
              "      <th>high</th>\n",
              "      <th>low</th>\n",
              "      <th>volume</th>\n",
              "      <th>close</th>\n",
              "      <th>open</th>\n",
              "      <th>date</th>\n",
              "      <th>adjclose</th>\n",
              "    </tr>\n",
              "  </thead>\n",
              "  <tbody>\n",
              "    <tr>\n",
              "      <th>0</th>\n",
              "      <td>239.910004</td>\n",
              "      <td>236.720001</td>\n",
              "      <td>5938400</td>\n",
              "      <td>239.910004</td>\n",
              "      <td>238.750000</td>\n",
              "      <td>2020-01-02</td>\n",
              "      <td>239.766586</td>\n",
              "    </tr>\n",
              "    <tr>\n",
              "      <th>1</th>\n",
              "      <td>237.830002</td>\n",
              "      <td>234.100006</td>\n",
              "      <td>5134600</td>\n",
              "      <td>236.070007</td>\n",
              "      <td>235.100006</td>\n",
              "      <td>2020-01-03</td>\n",
              "      <td>235.928894</td>\n",
              "    </tr>\n",
              "    <tr>\n",
              "      <th>2</th>\n",
              "      <td>237.270004</td>\n",
              "      <td>231.270004</td>\n",
              "      <td>6565900</td>\n",
              "      <td>237.059998</td>\n",
              "      <td>232.320007</td>\n",
              "      <td>2020-01-06</td>\n",
              "      <td>236.918289</td>\n",
              "    </tr>\n",
              "    <tr>\n",
              "      <th>3</th>\n",
              "      <td>241.770004</td>\n",
              "      <td>236.389999</td>\n",
              "      <td>7871400</td>\n",
              "      <td>239.929993</td>\n",
              "      <td>238.199997</td>\n",
              "      <td>2020-01-07</td>\n",
              "      <td>239.786575</td>\n",
              "    </tr>\n",
              "    <tr>\n",
              "      <th>4</th>\n",
              "      <td>242.039993</td>\n",
              "      <td>238.149994</td>\n",
              "      <td>6927700</td>\n",
              "      <td>240.380005</td>\n",
              "      <td>239.759995</td>\n",
              "      <td>2020-01-08</td>\n",
              "      <td>240.236313</td>\n",
              "    </tr>\n",
              "  </tbody>\n",
              "</table>\n",
              "</div>"
            ],
            "text/plain": [
              "         high         low   volume  ...        open        date    adjclose\n",
              "0  239.910004  236.720001  5938400  ...  238.750000  2020-01-02  239.766586\n",
              "1  237.830002  234.100006  5134600  ...  235.100006  2020-01-03  235.928894\n",
              "2  237.270004  231.270004  6565900  ...  232.320007  2020-01-06  236.918289\n",
              "3  241.770004  236.389999  7871400  ...  238.199997  2020-01-07  239.786575\n",
              "4  242.039993  238.149994  6927700  ...  239.759995  2020-01-08  240.236313\n",
              "\n",
              "[5 rows x 7 columns]"
            ]
          },
          "metadata": {
            "tags": []
          },
          "execution_count": 26
        }
      ]
    },
    {
      "cell_type": "code",
      "metadata": {
        "id": "dTWCdU1ja-bU",
        "colab_type": "code",
        "colab": {}
      },
      "source": [
        "# Function to get data\n",
        "\n",
        "def get_data(df):  \n",
        "    data = df.copy()\n",
        "    data['date'] = data['date'].str.split('-').str[2]\n",
        "    data['date'] = pd.to_numeric(data['date'])\n",
        "    return [ data['date'].tolist(), data['close'].tolist() ] # Convert Series to listdates\n",
        "\n",
        "dates, prices = get_data(df)"
      ],
      "execution_count": 0,
      "outputs": []
    },
    {
      "cell_type": "code",
      "metadata": {
        "id": "hfHekUlra-bW",
        "colab_type": "code",
        "colab": {}
      },
      "source": [
        "def predict_price(dates, prices, x):\n",
        "    dates = np.reshape(dates,(len(dates), 1)) # convert to 1 x n dimension\n",
        "    x = np.reshape(x,(len(x), 1))\n",
        "    \n",
        "    svr_lin  = SVR(kernel='linear', C=1e3)           # linear kernel\n",
        "    svr_poly = SVR(kernel='poly', C=1e3, degree=2)   # polynomial kernel\n",
        "    svr_rbf = SVR(kernel='rbf', C=1e3, gamma=0.1)    # radial basis function (RBF) kernel\n",
        "    \n",
        "    # Fit regression model for kernels\n",
        "    svr_lin.fit(dates, prices)\n",
        "    svr_poly.fit(dates, prices)\n",
        "    svr_rbf.fit(dates, prices)\n",
        "    \n",
        "    # Print Scores for each model\n",
        "    rbf_score = svr_rbf.score(dates, prices)\n",
        "    lin_score = svr_lin.score(dates, prices)\n",
        "    poly_score = svr_poly.score(dates, prices)\n",
        "\n",
        "    \n",
        "    # Plot results\n",
        "    plt.scatter(dates, prices, c='k', label='Data')\n",
        "    plt.plot(dates, svr_lin.predict(dates), c='g', label='Linear model')\n",
        "    plt.plot(dates, svr_rbf.predict(dates), c='r', label='RBF model')    \n",
        "    plt.plot(dates, svr_poly.predict(dates), c='b', label='Polynomial model')\n",
        "    plt.xlabel('Date')\n",
        "    plt.ylabel('Price')\n",
        "    plt.title('NVIDIA Support Vector Regression Among 3 Models')\n",
        "    plt.legend()\n",
        "    plt.show()\n",
        "    \n",
        "    # Print Figures\n",
        "    print(\"Radial Basis Function prediction: \",svr_rbf.predict(x)),\n",
        "    print(\"Linear Model Prediction: \", svr_lin.predict(x)), \n",
        "    print(\"Polynomial Model Prediction: \", svr_poly.predict(x) )\n",
        "    print(\" \")\n",
        "    print(\"Radial Basis Function Score: \", rbf_score)\n",
        "    print(\"Linear Model Score: \", lin_score)\n",
        "    print(\"Polynomial Model Score: \", poly_score)\n",
        "    return svr_rbf.predict(x)[0], svr_lin.predict(x)[0], svr_poly.predict(x)[0]"
      ],
      "execution_count": 0,
      "outputs": []
    },
    {
      "cell_type": "code",
      "metadata": {
        "id": "cIwv9kAIa-bY",
        "colab_type": "code",
        "outputId": "422ef9c7-5651-48af-9785-c0cf0447639c",
        "colab": {
          "base_uri": "https://localhost:8080/",
          "height": 431
        }
      },
      "source": [
        "predict_price(dates, prices, [31]) # Here we call the function and pass the number [31], in order to predict\n",
        "                                   # the next stock price from the linear, polynomial, and RBF kernels, respectively."
      ],
      "execution_count": 0,
      "outputs": [
        {
          "output_type": "display_data",
          "data": {
            "image/png": "[encoded data removed]",
            "text/plain": [
              "<Figure size 432x288 with 1 Axes>"
            ]
          },
          "metadata": {
            "tags": [],
            "needs_background": "light"
          }
        },
        {
          "output_type": "stream",
          "text": [
            "Radial Basis Function prediction:  [221.66077921]\n",
            "Linear Model Prediction:  [252.88231952]\n",
            "Polynomial Model Prediction:  [255.13581179]\n",
            " \n",
            "Radial Basis Function Score:  0.9950002727625934\n",
            "Linear Model Score:  0.3402685462881597\n",
            "Polynomial Model Score:  0.11117637110602341\n"
          ],
          "name": "stdout"
        },
        {
          "output_type": "execute_result",
          "data": {
            "text/plain": [
              "(221.660779207957, 252.88231952354244, 255.13581179310012)"
            ]
          },
          "metadata": {
            "tags": []
          },
          "execution_count": 29
        }
      ]
    },
    {
      "cell_type": "code",
      "metadata": {
        "scrolled": false,
        "id": "hzbE38yWa-bb",
        "colab_type": "code",
        "outputId": "b062dddf-9aa6-4755-8e50-2ef0706b399c",
        "colab": {
          "base_uri": "https://localhost:8080/",
          "height": 34
        }
      },
      "source": [
        "# Grab the true value of the following stock to compare to the 3 models.\n",
        "\n",
        "true_price = td.get_historical_prices('2020-01-31', '2020-02-01')\n",
        "true_price['close']"
      ],
      "execution_count": 0,
      "outputs": [
        {
          "output_type": "execute_result",
          "data": {
            "text/plain": [
              "[236.42999267578125]"
            ]
          },
          "metadata": {
            "tags": []
          },
          "execution_count": 30
        }
      ]
    },
    {
      "cell_type": "markdown",
      "metadata": {
        "id": "489pnaROa-bd",
        "colab_type": "text"
      },
      "source": [
        "After running this model with a number of stocks such as TSLA, MSFT, NFLX, NVDA, and more, it seems that the RBF model and the Polynomial model do better job at accurately predicting the next stocks price. This makes sense as most stock prices usually don't follow a linear model."
      ]
    }
  ]
}