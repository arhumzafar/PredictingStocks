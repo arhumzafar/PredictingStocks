{
  "nbformat": 4,
  "nbformat_minor": 0,
  "metadata": {
    "kernelspec": {
      "display_name": "Python 3",
      "language": "python",
      "name": "python3"
    },
    "language_info": {
      "codemirror_mode": {
        "name": "ipython",
        "version": 3
      },
      "file_extension": ".py",
      "mimetype": "text/x-python",
      "name": "python",
      "nbconvert_exporter": "python",
      "pygments_lexer": "ipython3",
      "version": "3.7.4"
    },
    "colab": {
      "name": "453 - Support Vector Regression - TSLA.ipynb",
      "provenance": []
    }
  },
  "cells": [
    {
      "cell_type": "markdown",
      "metadata": {
        "id": "P5XJUbIYa-bM",
        "colab_type": "text"
      },
      "source": [
        "After observing how the Linear Regression Model had a tendecy to learn redundant noise/behavior, *Support Vector Machine (SVM)* analysis become a viable choice to try out. SVMs are a popular machine learning tool for classification and regression, support both linear and nonlinear regression, being referred to as Support Vector Regression (SVR).<br>\n",
        "<br>\n",
        "In this notebook, I will use SVR to make a prediction on the following stock price for a certain stock. I will use the three models for SVR: linear, polynomial, and radial basis function (RBF), which is the default kernel for SVR."
      ]
    },
    {
      "cell_type": "code",
      "metadata": {
        "id": "EtHJdTina-bN",
        "colab_type": "code",
        "colab": {}
      },
      "source": [
        "import numpy as np\n",
        "from sklearn.svm import SVR \n",
        "import matplotlib.pyplot as plt\n",
        "%matplotlib inline\n",
        "import pandas as pd \n",
        "import quandl"
      ],
      "execution_count": 0,
      "outputs": []
    },
    {
      "cell_type": "code",
      "metadata": {
        "id": "uPRv37qea-bR",
        "colab_type": "code",
        "outputId": "c1b19f61-4ff8-411b-ce67-abc9b021532d",
        "colab": {
          "base_uri": "https://localhost:8080/",
          "height": 204
        }
      },
      "source": [
        "from stockai import Stock\n",
        "\n",
        "td = Stock('TSLA')\n",
        "prices_list = td.get_historical_prices('2020-01-01', '2020-01-30')\n",
        "df = pd.DataFrame.from_dict(prices_list)\n",
        "df.head()"
      ],
      "execution_count": 18,
      "outputs": [
        {
          "output_type": "execute_result",
          "data": {
            "text/html": [
              "<div>\n",
              "<style scoped>\n",
              "    .dataframe tbody tr th:only-of-type {\n",
              "        vertical-align: middle;\n",
              "    }\n",
              "\n",
              "    .dataframe tbody tr th {\n",
              "        vertical-align: top;\n",
              "    }\n",
              "\n",
              "    .dataframe thead th {\n",
              "        text-align: right;\n",
              "    }\n",
              "</style>\n",
              "<table border=\"1\" class=\"dataframe\">\n",
              "  <thead>\n",
              "    <tr style=\"text-align: right;\">\n",
              "      <th></th>\n",
              "      <th>volume</th>\n",
              "      <th>open</th>\n",
              "      <th>low</th>\n",
              "      <th>close</th>\n",
              "      <th>high</th>\n",
              "      <th>date</th>\n",
              "      <th>adjclose</th>\n",
              "    </tr>\n",
              "  </thead>\n",
              "  <tbody>\n",
              "    <tr>\n",
              "      <th>0</th>\n",
              "      <td>9532100</td>\n",
              "      <td>424.500000</td>\n",
              "      <td>421.709991</td>\n",
              "      <td>430.260010</td>\n",
              "      <td>430.700012</td>\n",
              "      <td>2020-01-02</td>\n",
              "      <td>430.260010</td>\n",
              "    </tr>\n",
              "    <tr>\n",
              "      <th>1</th>\n",
              "      <td>17778500</td>\n",
              "      <td>440.500000</td>\n",
              "      <td>436.920013</td>\n",
              "      <td>443.010010</td>\n",
              "      <td>454.000000</td>\n",
              "      <td>2020-01-03</td>\n",
              "      <td>443.010010</td>\n",
              "    </tr>\n",
              "    <tr>\n",
              "      <th>2</th>\n",
              "      <td>10133000</td>\n",
              "      <td>440.470001</td>\n",
              "      <td>440.000000</td>\n",
              "      <td>451.540009</td>\n",
              "      <td>451.559998</td>\n",
              "      <td>2020-01-06</td>\n",
              "      <td>451.540009</td>\n",
              "    </tr>\n",
              "    <tr>\n",
              "      <th>3</th>\n",
              "      <td>17882100</td>\n",
              "      <td>461.399994</td>\n",
              "      <td>453.359985</td>\n",
              "      <td>469.059998</td>\n",
              "      <td>471.630005</td>\n",
              "      <td>2020-01-07</td>\n",
              "      <td>469.059998</td>\n",
              "    </tr>\n",
              "    <tr>\n",
              "      <th>4</th>\n",
              "      <td>31144300</td>\n",
              "      <td>473.700012</td>\n",
              "      <td>468.230011</td>\n",
              "      <td>492.140015</td>\n",
              "      <td>498.489990</td>\n",
              "      <td>2020-01-08</td>\n",
              "      <td>492.140015</td>\n",
              "    </tr>\n",
              "  </tbody>\n",
              "</table>\n",
              "</div>"
            ],
            "text/plain": [
              "     volume        open         low  ...        high        date    adjclose\n",
              "0   9532100  424.500000  421.709991  ...  430.700012  2020-01-02  430.260010\n",
              "1  17778500  440.500000  436.920013  ...  454.000000  2020-01-03  443.010010\n",
              "2  10133000  440.470001  440.000000  ...  451.559998  2020-01-06  451.540009\n",
              "3  17882100  461.399994  453.359985  ...  471.630005  2020-01-07  469.059998\n",
              "4  31144300  473.700012  468.230011  ...  498.489990  2020-01-08  492.140015\n",
              "\n",
              "[5 rows x 7 columns]"
            ]
          },
          "metadata": {
            "tags": []
          },
          "execution_count": 18
        }
      ]
    },
    {
      "cell_type": "code",
      "metadata": {
        "id": "dTWCdU1ja-bU",
        "colab_type": "code",
        "colab": {}
      },
      "source": [
        "# Function to get data\n",
        "\n",
        "def get_data(df):  \n",
        "    data = df.copy()\n",
        "    data['date'] = data['date'].str.split('-').str[2]\n",
        "    data['date'] = pd.to_numeric(data['date'])\n",
        "    return [ data['date'].tolist(), data['close'].tolist() ] # Convert Series to listdates\n",
        "\n",
        "dates, prices = get_data(df)"
      ],
      "execution_count": 0,
      "outputs": []
    },
    {
      "cell_type": "code",
      "metadata": {
        "id": "hfHekUlra-bW",
        "colab_type": "code",
        "colab": {}
      },
      "source": [
        "def predict_price(dates, prices, x):\n",
        "    dates = np.reshape(dates,(len(dates), 1)) # convert to 1 x n dimension\n",
        "    x = np.reshape(x,(len(x), 1))\n",
        "    \n",
        "    svr_lin  = SVR(kernel='linear', C=1e3)           # linear kernel\n",
        "    svr_poly = SVR(kernel='poly', C=1e3, degree=2)   # polynomial kernel\n",
        "    svr_rbf = SVR(kernel='rbf', C=1e3, gamma=0.1)    # radial basis function (RBF) kernel\n",
        "    \n",
        "    # Fit regression model for kernels\n",
        "    svr_lin.fit(dates, prices)\n",
        "    svr_poly.fit(dates, prices)\n",
        "    svr_rbf.fit(dates, prices)\n",
        "    \n",
        "    # Print Scores for each model\n",
        "    rbf_score = svr_rbf.score(dates, prices)\n",
        "    lin_score = svr_lin.score(dates, prices)\n",
        "    poly_score = svr_poly.score(dates, prices)\n",
        "\n",
        "    \n",
        "    # Plot results\n",
        "    plt.scatter(dates, prices, c='k', label='Data')\n",
        "    plt.plot(dates, svr_lin.predict(dates), c='g', label='Linear model')\n",
        "    plt.plot(dates, svr_rbf.predict(dates), c='r', label='RBF model')    \n",
        "    plt.plot(dates, svr_poly.predict(dates), c='b', label='Polynomial model')\n",
        "    plt.xlabel('Date')\n",
        "    plt.ylabel('Price')\n",
        "    plt.title('TSLA Support Vector Regression Among 3 Models')\n",
        "    plt.legend()\n",
        "    plt.show()\n",
        "    \n",
        "    # Print Figures\n",
        "    print(\"Radial Basis Function prediction: \",svr_rbf.predict(x)),\n",
        "    print(\"Linear Model Prediction: \", svr_lin.predict(x)), \n",
        "    print(\"Polynomial Model Prediction: \", svr_poly.predict(x) )\n",
        "    print(\" \")\n",
        "    print(\"Radial Basis Function Score: \", rbf_score)\n",
        "    print(\"Linear Model Score: \", lin_score)\n",
        "    print(\"Polynomial Model Score: \", poly_score)\n",
        "    return svr_rbf.predict(x)[0], svr_lin.predict(x)[0], svr_poly.predict(x)[0]"
      ],
      "execution_count": 0,
      "outputs": []
    },
    {
      "cell_type": "code",
      "metadata": {
        "id": "cIwv9kAIa-bY",
        "colab_type": "code",
        "outputId": "d03b963e-2262-4e76-ed71-52ff1e092427",
        "colab": {
          "base_uri": "https://localhost:8080/",
          "height": 431
        }
      },
      "source": [
        "predict_price(dates, prices, [31]) # Here we call the function and pass the number [31], in order to predict\n",
        "                                   # the next stock price from the linear, polynomial, and RBF kernels, respectively."
      ],
      "execution_count": 21,
      "outputs": [
        {
          "output_type": "display_data",
          "data": {
            "image/png": "[encoded data removed]",
            "text/plain": [
              "<Figure size 432x288 with 1 Axes>"
            ]
          },
          "metadata": {
            "tags": [],
            "needs_background": "light"
          }
        },
        {
          "output_type": "stream",
          "text": [
            "Radial Basis Function prediction:  [581.60200536]\n",
            "Linear Model Prediction:  [602.91430838]\n",
            "Polynomial Model Prediction:  [629.63549326]\n",
            " \n",
            "Radial Basis Function Score:  0.994649122983569\n",
            "Linear Model Score:  0.907596194811706\n",
            "Polynomial Model Score:  0.780879564898484\n"
          ],
          "name": "stdout"
        },
        {
          "output_type": "execute_result",
          "data": {
            "text/plain": [
              "(581.6020053647484, 602.9143083846436, 629.6354932640022)"
            ]
          },
          "metadata": {
            "tags": []
          },
          "execution_count": 21
        }
      ]
    },
    {
      "cell_type": "code",
      "metadata": {
        "scrolled": false,
        "id": "hzbE38yWa-bb",
        "colab_type": "code",
        "outputId": "a4aa7fbe-463a-40cf-c50f-0e9651ca1726",
        "colab": {
          "base_uri": "https://localhost:8080/",
          "height": 34
        }
      },
      "source": [
        "# Grab the true value of the following stock to compare to the 3 models.\n",
        "\n",
        "true_price = td.get_historical_prices('2020-01-31', '2020-02-01')\n",
        "true_price['close']"
      ],
      "execution_count": 22,
      "outputs": [
        {
          "output_type": "execute_result",
          "data": {
            "text/plain": [
              "[650.5700073242188]"
            ]
          },
          "metadata": {
            "tags": []
          },
          "execution_count": 22
        }
      ]
    },
    {
      "cell_type": "markdown",
      "metadata": {
        "id": "489pnaROa-bd",
        "colab_type": "text"
      },
      "source": [
        "After running this model with a number of stocks such as TSLA, MSFT, NFLX, NVDA, and more, it seems that the RBF model and the Polynomial model do better job at accurately predicting the next stocks price. This makes sense as most stock prices usually don't follow a linear model."
      ]
    }
  ]
}